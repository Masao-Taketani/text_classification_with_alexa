{
 "cells": [
  {
   "cell_type": "code",
   "execution_count": 54,
   "metadata": {},
   "outputs": [],
   "source": [
    "#前処理テスト(entertainment用1)\n",
    "file_path_preprocess_needed = \"ent/test1.txt\"\n",
    "list = []\n",
    "dir_path_to_store = \"../entertainment/\"\n",
    "file_name = 'entertainment'\n",
    "with open(file_path_preprocess_needed, 'r') as r:\n",
    "    texts = r.read()\n",
    "    for i, text in enumerate(texts.split(\"\\n\")):\n",
    "        with open(dir_path_to_store + file_name + str(i) + '.txt', 'w') as w:\n",
    "            w.write(text)"
   ]
  },
  {
   "cell_type": "code",
   "execution_count": 55,
   "metadata": {},
   "outputs": [],
   "source": [
    "#前処理テスト(entertainment用2)\n",
    "file_path_preprocess_needed = \"ent/test2.txt\"\n",
    "list = []\n",
    "dir_path_to_store = \"../entertainment/\"\n",
    "file_name = 'entertainment'\n",
    "with open(file_path_preprocess_needed, 'r') as r:\n",
    "    texts = r.read()\n",
    "    for i, text in enumerate(texts.split(\"\\n\")):\n",
    "        with open(dir_path_to_store + file_name + str(i + 89) + '.txt', 'w') as w:\n",
    "            w.write(text)"
   ]
  },
  {
   "cell_type": "code",
   "execution_count": 56,
   "metadata": {},
   "outputs": [],
   "source": [
    "#前処理テスト(entertainment用3)\n",
    "file_path_preprocess_needed = \"ent/test3.txt\"\n",
    "list = []\n",
    "dir_path_to_store = \"../entertainment/\"\n",
    "file_name = 'entertainment'\n",
    "with open(file_path_preprocess_needed, 'r') as r:\n",
    "    texts = r.read()\n",
    "    for i, text in enumerate(texts.split(\"\\n\")):\n",
    "        with open(dir_path_to_store + file_name + str(i + 178) + '.txt', 'w') as w:\n",
    "            w.write(text)"
   ]
  },
  {
   "cell_type": "code",
   "execution_count": 62,
   "metadata": {},
   "outputs": [],
   "source": [
    "#前処理(fashion)\n",
    "save_index = 0\n",
    "for i in range(4):\n",
    "    file_path_preprocess_needed = \"fas/fas{}.txt\".format(str(i + 1))\n",
    "    with open(file_path_preprocess_needed, 'r') as r:\n",
    "        texts = r.read()\n",
    "        for j, text in enumerate(texts.split(\"\\n\")):\n",
    "            file_path_to_store = \"../fashion/fashion{}.txt\".format(str(j + save_index))\n",
    "            with open(file_path_to_store, 'w') as w:\n",
    "                w.write(text)\n",
    "        save_index = j + 1"
   ]
  },
  {
   "cell_type": "code",
   "execution_count": 63,
   "metadata": {},
   "outputs": [],
   "source": [
    "#前処理(international)\n",
    "save_index = 0\n",
    "for i in range(2):\n",
    "    file_path_preprocess_needed = \"int/int{}.txt\".format(str(i + 1))\n",
    "    with open(file_path_preprocess_needed, 'r') as r:\n",
    "        texts = r.read()\n",
    "        for j, text in enumerate(texts.split(\"\\n\")):\n",
    "            file_path_to_store = \"../international/international{}.txt\".format(str(j + save_index))\n",
    "            with open(file_path_to_store, 'w') as w:\n",
    "                w.write(text)\n",
    "        save_index = j + 1"
   ]
  },
  {
   "cell_type": "code",
   "execution_count": null,
   "metadata": {},
   "outputs": [],
   "source": []
  }
 ],
 "metadata": {
  "kernelspec": {
   "display_name": "Python 3",
   "language": "python",
   "name": "python3"
  },
  "language_info": {
   "codemirror_mode": {
    "name": "ipython",
    "version": 3
   },
   "file_extension": ".py",
   "mimetype": "text/x-python",
   "name": "python",
   "nbconvert_exporter": "python",
   "pygments_lexer": "ipython3",
   "version": "3.6.4"
  }
 },
 "nbformat": 4,
 "nbformat_minor": 2
}
